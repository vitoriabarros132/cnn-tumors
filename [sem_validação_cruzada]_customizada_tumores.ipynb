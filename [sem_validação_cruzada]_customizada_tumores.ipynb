{
  "nbformat": 4,
  "nbformat_minor": 0,
  "metadata": {
    "colab": {
      "provenance": []
    },
    "kernelspec": {
      "name": "python3",
      "display_name": "Python 3"
    },
    "language_info": {
      "name": "python"
    }
  },
  "cells": [
    {
      "cell_type": "code",
      "source": [
        "import kagglehub\n",
        "\n",
        "# Download latest version\n",
        "path = kagglehub.dataset_download(\"masoudnickparvar/brain-tumor-mri-dataset\")\n",
        "\n",
        "print(\"Path to dataset files:\", path)"
      ],
      "metadata": {
        "colab": {
          "base_uri": "https://localhost:8080/"
        },
        "id": "A5_TRqgit161",
        "outputId": "d1aec1e1-bc1e-47c0-dbf9-15bdb9585717"
      },
      "execution_count": 1,
      "outputs": [
        {
          "output_type": "stream",
          "name": "stdout",
          "text": [
            "Path to dataset files: /kaggle/input/brain-tumor-mri-dataset\n"
          ]
        }
      ]
    },
    {
      "cell_type": "code",
      "source": [
        "# Link do Colab com o Drive\n",
        "from google.colab import drive\n",
        "drive.mount('/content/drive')\n",
        "\n",
        "import tensorflow as tf  # Biblioteca para criar a rede neural\n",
        "from tensorflow import keras\n",
        "from keras import callbacks\n",
        "from keras import layers\n",
        "from keras import regularizers\n",
        "from keras.callbacks import ModelCheckpoint, EarlyStopping, ReduceLROnPlateau\n",
        "import matplotlib.pyplot as plt  # Para visualizar imagens\n",
        "import numpy as np  # Para manipulação de arrays\n",
        "import os  # Para trabalhar com diretórios\n",
        "from sklearn.model_selection import train_test_split"
      ],
      "metadata": {
        "colab": {
          "base_uri": "https://localhost:8080/"
        },
        "id": "wcrstjeAoomK",
        "outputId": "e373d6b3-e2c0-4d23-b295-42d95be62438"
      },
      "execution_count": 47,
      "outputs": [
        {
          "output_type": "stream",
          "name": "stdout",
          "text": [
            "Drive already mounted at /content/drive; to attempt to forcibly remount, call drive.mount(\"/content/drive\", force_remount=True).\n"
          ]
        }
      ]
    },
    {
      "cell_type": "code",
      "source": [
        "# Definir o caminho do dataset\n",
        "dataset_path = \"/kaggle/input/brain-tumor-mri-dataset\"\n",
        "train_dir = os.path.join(dataset_path, \"Training\")\n",
        "test_dir = os.path.join(dataset_path, \"Testing\")\n",
        "\n",
        "# Definir o novo tamanho da imagem\n",
        "IMAGE_SIZE = (64, 64)\n",
        "\n",
        "# Coletar caminhos de imagem e rótulos do conjunto de treinamento\n",
        "image_paths = []\n",
        "labels = []\n",
        "class_names_list = sorted(os.listdir(train_dir))\n",
        "num_classes = len(class_names_list)\n",
        "class_to_label = {name: i for i, name in enumerate(class_names_list)}\n",
        "\n",
        "for class_name in class_names_list:\n",
        "    class_dir = os.path.join(train_dir, class_name)\n",
        "    for img_name in os.listdir(class_dir):\n",
        "        image_paths.append(os.path.join(class_dir, img_name))\n",
        "        labels.append(class_to_label[class_name])\n",
        "\n",
        "# Converter para numpy arrays\n",
        "image_paths = np.array(image_paths)\n",
        "labels = np.array(labels)\n",
        "\n",
        "# Dividir o conjunto de treino em treino e validação\n",
        "# Usando 80% para treino e 20% para validação (ajustável)\n",
        "train_paths, val_paths, train_labels, val_labels = train_test_split(\n",
        "    image_paths, labels, test_size=0.2, random_state=42, stratify=labels\n",
        ")\n",
        "\n",
        "# Carregar o conjunto de teste separadamente\n",
        "test_dataset_raw = keras.preprocessing.image_dataset_from_directory(\n",
        "    test_dir,\n",
        "    image_size=IMAGE_SIZE,\n",
        "    batch_size=32, # Ajustar o tamanho do batch\n",
        "    shuffle=False,\n",
        "    label_mode='categorical') # São mais de 2 classes, então é categorical\n",
        "\n",
        "# Pegar os nomes das classes ANTES de otimizar o dataset\n",
        "class_names = test_dataset_raw.class_names\n",
        "\n",
        "# Otimização de desempenho para o conjunto de teste\n",
        "AUTOTUNE = tf.data.AUTOTUNE\n",
        "test_dataset = test_dataset_raw.cache().prefetch(buffer_size=AUTOTUNE)\n",
        "\n",
        "# Data Augmentation (opcional)\n",
        "data_augmentation = keras.Sequential(\n",
        "    [\n",
        "        layers.RandomFlip(\"horizontal\"), # Inversão horizontal\n",
        "        layers.RandomRotation(0.05),       # Rotação para até 5% (0.05 radianos)\n",
        "        layers.RandomContrast(0.05),     # Ajuste de contraste (opcional)\n",
        "    ],\n",
        "    name=\"data_augmentation\",\n",
        ")\n",
        "\n",
        "# Função para criar o modelo\n",
        "def create_model(num_classes):\n",
        "    model = keras.Sequential([\n",
        "        keras.Input(shape=(IMAGE_SIZE[0], IMAGE_SIZE[1], 3)),\n",
        "        layers.Rescaling(1./255),\n",
        "        layers.Conv2D(16, (3,3), activation='relu'),\n",
        "        layers.MaxPooling2D(pool_size=(2,2), strides=2),\n",
        "        layers.Dropout(0.3),\n",
        "        layers.Conv2D(32, (3,3), activation='relu'),\n",
        "        layers.MaxPooling2D(pool_size=(2,2), strides=2),\n",
        "        layers.Dropout(0.2),\n",
        "        layers.Conv2D(64, (3,3), activation='relu'),\n",
        "        layers.MaxPooling2D(pool_size=(2,2), strides=2),\n",
        "        layers.Dropout(0.3),\n",
        "        layers.Flatten(),\n",
        "        layers.Dense(128, activation='relu', kernel_regularizer=regularizers.l2(0.005)),\n",
        "        layers.Dropout(0.3),\n",
        "        layers.Dense(num_classes, activation='softmax')\n",
        "    ])\n",
        "    model.compile(\n",
        "        loss=\"categorical_crossentropy\",\n",
        "        optimizer=keras.optimizers.Adam(learning_rate=0.001),\n",
        "        metrics=[\"accuracy\",\n",
        "                 tf.keras.metrics.Precision(name='precision'),\n",
        "                 tf.keras.metrics.Recall(name='recall')])\n",
        "    return model\n",
        "\n",
        "# Função para criar datasets de treino e validação a partir de caminhos e rótulos\n",
        "# Para usar o Data Augmentation: augment=True\n",
        "def create_tf_dataset_split(image_paths, labels, num_classes, batch_size, shuffle=False, augment=False):\n",
        "    # Função auxiliar para carregar e pré-processar imagens\n",
        "    def load_image(image_path, label):\n",
        "        img = tf.io.read_file(image_path)\n",
        "        img = tf.image.decode_jpeg(img, channels=3)\n",
        "        img = tf.image.resize(img, IMAGE_SIZE)\n",
        "        label = tf.one_hot(label, num_classes)\n",
        "        return img, label\n",
        "\n",
        "    dataset = tf.data.Dataset.from_tensor_slices((image_paths, labels))\n",
        "    if shuffle:\n",
        "        dataset = dataset.shuffle(buffer_size=1000)\n",
        "    dataset = dataset.map(lambda x, y: load_image(x, y), num_parallel_calls=AUTOTUNE)\n",
        "    if augment:\n",
        "         dataset = dataset.map(lambda x, y: (data_augmentation(x, training=True), y), num_parallel_calls=AUTOTUNE) # Aplica DA no treino\n",
        "    dataset = dataset.batch(batch_size)\n",
        "    dataset = dataset.cache().prefetch(buffer_size=AUTOTUNE)\n",
        "    return dataset\n",
        "\n",
        "# Criar datasets de treino e validação\n",
        "# Para usar o Data Augmentation: augment=True\n",
        "train_dataset = create_tf_dataset_split(train_paths, train_labels, num_classes, batch_size=32, shuffle=True, augment=False)\n",
        "val_dataset = create_tf_dataset_split(val_paths, val_labels, num_classes, batch_size=32)\n",
        "\n",
        "\n",
        "# Criação e compilação do modelo final\n",
        "model = create_model(num_classes)\n",
        "\n",
        "# Early Stopping e Learning Rate para o treinamento\n",
        "early_stopping = callbacks.EarlyStopping(\n",
        "    monitor='val_loss',\n",
        "    patience=5,\n",
        "    restore_best_weights=True\n",
        ")\n",
        "\n",
        "reduce_lr = callbacks.ReduceLROnPlateau(\n",
        "    monitor='val_loss',\n",
        "    factor=0.2,\n",
        "    patience=5,\n",
        "    min_lr=0.00001\n",
        ")\n",
        "\n",
        "# Callback para salvar o melhor modelo\n",
        "model_checkpoint_callback = ModelCheckpoint(\n",
        "    filepath='/content/drive/MyDrive/PROJETO IA 2024-2025/modelos_salvos/melhor_modelo_tumores_sem_VC.keras',\n",
        "    monitor='val_loss',\n",
        "    save_best_only=True,\n",
        "    mode='min',\n",
        "    verbose=1\n",
        ")\n",
        "\n",
        "print(\"Training the model...\")\n",
        "history = model.fit(\n",
        "    train_dataset,\n",
        "    epochs=50, # Número de épocas\n",
        "    validation_data=val_dataset,\n",
        "    callbacks=[early_stopping, reduce_lr, model_checkpoint_callback])\n",
        "\n",
        "# Plotagem dos resultados do treinamento\n",
        "plt.figure(figsize=(12, 5))\n",
        "\n",
        "# Plotar Accuracy\n",
        "plt.subplot(1, 2, 1)\n",
        "plt.plot(history.history['accuracy'], label='train_accuracy')\n",
        "plt.plot(history.history['val_accuracy'], label='val_accuracy')\n",
        "plt.xlabel('Epoch')\n",
        "plt.ylabel('Accuracy')\n",
        "plt.title('Training and Validation Accuracy')\n",
        "plt.legend(loc='lower right')\n",
        "\n",
        "# Plotar Loss\n",
        "plt.subplot(1, 2, 2)\n",
        "plt.plot(history.history['loss'], label='train_loss')\n",
        "plt.plot(history.history['val_loss'], label='val_loss')\n",
        "plt.xlabel('Epoch')\n",
        "plt.ylabel('Loss')\n",
        "plt.title('Training and Validation Loss')\n",
        "plt.legend(loc='upper right')\n",
        "plt.grid(True)\n",
        "plt.tight_layout()\n",
        "plt.show()\n",
        "\n",
        "\n",
        "# Avaliação do modelo final no conjunto de teste\n",
        "print(\"\\nAvaliação do modelo final no conjunto de teste:\")\n",
        "loss, accuracy, precision, recall = model.evaluate(test_dataset)\n",
        "print(f\"Loss no teste: {loss:.4f}\")\n",
        "print(f\"Acurácia no teste: {accuracy:.4f}\")\n",
        "print(f\"Precisão no teste: {precision:.4f}\")\n",
        "print(f\"Recall no teste: {recall:.4f}\")\n",
        "\n",
        "# Geração da Matriz de Confusão\n",
        "import numpy as np\n",
        "import seaborn as sns\n",
        "from sklearn.metrics import confusion_matrix\n",
        "\n",
        "# 1. Fazer previsões no conjunto de teste\n",
        "y_pred_probs = model.predict(test_dataset)\n",
        "y_pred = np.argmax(y_pred_probs, axis=1)\n",
        "\n",
        "# 2. Obter os rótulos verdadeiros do conjunto de teste\n",
        "y_true = np.concatenate([y for x, y in test_dataset], axis=0)\n",
        "# Converter os rótulos de one-hot para um único número\n",
        "y_true = np.argmax(y_true, axis=1)\n",
        "\n",
        "# 3. Calcular a matriz de confusão\n",
        "conf_matrix = confusion_matrix(y_true, y_pred)\n",
        "\n",
        "# 4. Plotar a matriz de confusão usando Seaborn\n",
        "plt.figure(figsize=(10, 8))\n",
        "sns.heatmap(conf_matrix, annot=True, fmt='d', cmap='Blues',\n",
        "            xticklabels=class_names, yticklabels=class_names)\n",
        "\n",
        "plt.title('Matriz de Confusão')\n",
        "plt.ylabel('Classe Verdadeira')\n",
        "plt.xlabel('Classe Prevista')\n",
        "plt.show()"
      ],
      "metadata": {
        "id": "6dgtwIkXdveB",
        "colab": {
          "base_uri": "https://localhost:8080/",
          "height": 1000
        },
        "outputId": "8e3ce8c4-bfec-4792-fb4e-c9ee69a8df72"
      },
      "execution_count": 48,
      "outputs": [
        {
          "output_type": "stream",
          "name": "stdout",
          "text": [
            "Found 1311 files belonging to 4 classes.\n",
            "Training the model...\n",
            "Epoch 1/50\n",
            "\u001b[1m143/143\u001b[0m \u001b[32m━━━━━━━━━━━━━━━━━━━━\u001b[0m\u001b[37m\u001b[0m \u001b[1m0s\u001b[0m 138ms/step - accuracy: 0.4525 - loss: 1.8004 - precision: 0.7391 - recall: 0.1989\n",
            "Epoch 1: val_loss improved from inf to 0.78635, saving model to /content/drive/MyDrive/PROJETO IA 2024-2025/modelos_salvos/melhor_modelo_tumores_sem_VC.keras\n",
            "\u001b[1m143/143\u001b[0m \u001b[32m━━━━━━━━━━━━━━━━━━━━\u001b[0m\u001b[37m\u001b[0m \u001b[1m28s\u001b[0m 179ms/step - accuracy: 0.4535 - loss: 1.7973 - precision: 0.7393 - recall: 0.2003 - val_accuracy: 0.7944 - val_loss: 0.7864 - val_precision: 0.8450 - val_recall: 0.7200 - learning_rate: 0.0010\n",
            "Epoch 2/50\n",
            "\u001b[1m143/143\u001b[0m \u001b[32m━━━━━━━━━━━━━━━━━━━━\u001b[0m\u001b[37m\u001b[0m \u001b[1m0s\u001b[0m 120ms/step - accuracy: 0.7522 - loss: 0.8377 - precision: 0.7920 - recall: 0.6804\n",
            "Epoch 2: val_loss improved from 0.78635 to 0.64857, saving model to /content/drive/MyDrive/PROJETO IA 2024-2025/modelos_salvos/melhor_modelo_tumores_sem_VC.keras\n",
            "\u001b[1m143/143\u001b[0m \u001b[32m━━━━━━━━━━━━━━━━━━━━\u001b[0m\u001b[37m\u001b[0m \u001b[1m18s\u001b[0m 127ms/step - accuracy: 0.7523 - loss: 0.8374 - precision: 0.7921 - recall: 0.6805 - val_accuracy: 0.8364 - val_loss: 0.6486 - val_precision: 0.8676 - val_recall: 0.7682 - learning_rate: 0.0010\n",
            "Epoch 3/50\n",
            "\u001b[1m143/143\u001b[0m \u001b[32m━━━━━━━━━━━━━━━━━━━━\u001b[0m\u001b[37m\u001b[0m \u001b[1m0s\u001b[0m 117ms/step - accuracy: 0.7878 - loss: 0.7028 - precision: 0.8236 - recall: 0.7438\n",
            "Epoch 3: val_loss improved from 0.64857 to 0.58816, saving model to /content/drive/MyDrive/PROJETO IA 2024-2025/modelos_salvos/melhor_modelo_tumores_sem_VC.keras\n",
            "\u001b[1m143/143\u001b[0m \u001b[32m━━━━━━━━━━━━━━━━━━━━\u001b[0m\u001b[37m\u001b[0m \u001b[1m18s\u001b[0m 123ms/step - accuracy: 0.7879 - loss: 0.7026 - precision: 0.8237 - recall: 0.7440 - val_accuracy: 0.8285 - val_loss: 0.5882 - val_precision: 0.8587 - val_recall: 0.7813 - learning_rate: 0.0010\n",
            "Epoch 4/50\n",
            "\u001b[1m143/143\u001b[0m \u001b[32m━━━━━━━━━━━━━━━━━━━━\u001b[0m\u001b[37m\u001b[0m \u001b[1m0s\u001b[0m 130ms/step - accuracy: 0.7980 - loss: 0.6444 - precision: 0.8213 - recall: 0.7597\n",
            "Epoch 4: val_loss improved from 0.58816 to 0.55415, saving model to /content/drive/MyDrive/PROJETO IA 2024-2025/modelos_salvos/melhor_modelo_tumores_sem_VC.keras\n",
            "\u001b[1m143/143\u001b[0m \u001b[32m━━━━━━━━━━━━━━━━━━━━\u001b[0m\u001b[37m\u001b[0m \u001b[1m20s\u001b[0m 137ms/step - accuracy: 0.7981 - loss: 0.6442 - precision: 0.8214 - recall: 0.7598 - val_accuracy: 0.8215 - val_loss: 0.5541 - val_precision: 0.8410 - val_recall: 0.7962 - learning_rate: 0.0010\n",
            "Epoch 5/50\n",
            "\u001b[1m143/143\u001b[0m \u001b[32m━━━━━━━━━━━━━━━━━━━━\u001b[0m\u001b[37m\u001b[0m \u001b[1m0s\u001b[0m 116ms/step - accuracy: 0.8178 - loss: 0.5965 - precision: 0.8437 - recall: 0.7917\n",
            "Epoch 5: val_loss improved from 0.55415 to 0.47578, saving model to /content/drive/MyDrive/PROJETO IA 2024-2025/modelos_salvos/melhor_modelo_tumores_sem_VC.keras\n",
            "\u001b[1m143/143\u001b[0m \u001b[32m━━━━━━━━━━━━━━━━━━━━\u001b[0m\u001b[37m\u001b[0m \u001b[1m17s\u001b[0m 122ms/step - accuracy: 0.8179 - loss: 0.5963 - precision: 0.8438 - recall: 0.7918 - val_accuracy: 0.8836 - val_loss: 0.4758 - val_precision: 0.9020 - val_recall: 0.8618 - learning_rate: 0.0010\n",
            "Epoch 6/50\n",
            "\u001b[1m143/143\u001b[0m \u001b[32m━━━━━━━━━━━━━━━━━━━━\u001b[0m\u001b[37m\u001b[0m \u001b[1m0s\u001b[0m 116ms/step - accuracy: 0.8381 - loss: 0.5601 - precision: 0.8555 - recall: 0.8123\n",
            "Epoch 6: val_loss did not improve from 0.47578\n",
            "\u001b[1m143/143\u001b[0m \u001b[32m━━━━━━━━━━━━━━━━━━━━\u001b[0m\u001b[37m\u001b[0m \u001b[1m17s\u001b[0m 122ms/step - accuracy: 0.8381 - loss: 0.5600 - precision: 0.8556 - recall: 0.8124 - val_accuracy: 0.8688 - val_loss: 0.4782 - val_precision: 0.8774 - val_recall: 0.8451 - learning_rate: 0.0010\n",
            "Epoch 7/50\n",
            "\u001b[1m143/143\u001b[0m \u001b[32m━━━━━━━━━━━━━━━━━━━━\u001b[0m\u001b[37m\u001b[0m \u001b[1m0s\u001b[0m 115ms/step - accuracy: 0.8470 - loss: 0.5287 - precision: 0.8637 - recall: 0.8248\n",
            "Epoch 7: val_loss improved from 0.47578 to 0.44686, saving model to /content/drive/MyDrive/PROJETO IA 2024-2025/modelos_salvos/melhor_modelo_tumores_sem_VC.keras\n",
            "\u001b[1m143/143\u001b[0m \u001b[32m━━━━━━━━━━━━━━━━━━━━\u001b[0m\u001b[37m\u001b[0m \u001b[1m19s\u001b[0m 134ms/step - accuracy: 0.8471 - loss: 0.5286 - precision: 0.8638 - recall: 0.8248 - val_accuracy: 0.8854 - val_loss: 0.4469 - val_precision: 0.8956 - val_recall: 0.8705 - learning_rate: 0.0010\n",
            "Epoch 8/50\n",
            "\u001b[1m143/143\u001b[0m \u001b[32m━━━━━━━━━━━━━━━━━━━━\u001b[0m\u001b[37m\u001b[0m \u001b[1m0s\u001b[0m 114ms/step - accuracy: 0.8492 - loss: 0.5344 - precision: 0.8672 - recall: 0.8246\n",
            "Epoch 8: val_loss did not improve from 0.44686\n",
            "\u001b[1m143/143\u001b[0m \u001b[32m━━━━━━━━━━━━━━━━━━━━\u001b[0m\u001b[37m\u001b[0m \u001b[1m18s\u001b[0m 120ms/step - accuracy: 0.8493 - loss: 0.5342 - precision: 0.8673 - recall: 0.8248 - val_accuracy: 0.8696 - val_loss: 0.4584 - val_precision: 0.8836 - val_recall: 0.8565 - learning_rate: 0.0010\n",
            "Epoch 9/50\n",
            "\u001b[1m143/143\u001b[0m \u001b[32m━━━━━━━━━━━━━━━━━━━━\u001b[0m\u001b[37m\u001b[0m \u001b[1m0s\u001b[0m 118ms/step - accuracy: 0.8614 - loss: 0.5141 - precision: 0.8762 - recall: 0.8428\n",
            "Epoch 9: val_loss improved from 0.44686 to 0.42731, saving model to /content/drive/MyDrive/PROJETO IA 2024-2025/modelos_salvos/melhor_modelo_tumores_sem_VC.keras\n",
            "\u001b[1m143/143\u001b[0m \u001b[32m━━━━━━━━━━━━━━━━━━━━\u001b[0m\u001b[37m\u001b[0m \u001b[1m23s\u001b[0m 137ms/step - accuracy: 0.8615 - loss: 0.5139 - precision: 0.8763 - recall: 0.8429 - val_accuracy: 0.8985 - val_loss: 0.4273 - val_precision: 0.9043 - val_recall: 0.8845 - learning_rate: 0.0010\n",
            "Epoch 10/50\n",
            "\u001b[1m143/143\u001b[0m \u001b[32m━━━━━━━━━━━━━━━━━━━━\u001b[0m\u001b[37m\u001b[0m \u001b[1m0s\u001b[0m 118ms/step - accuracy: 0.8642 - loss: 0.5023 - precision: 0.8727 - recall: 0.8495\n",
            "Epoch 10: val_loss did not improve from 0.42731\n",
            "\u001b[1m143/143\u001b[0m \u001b[32m━━━━━━━━━━━━━━━━━━━━\u001b[0m\u001b[37m\u001b[0m \u001b[1m18s\u001b[0m 124ms/step - accuracy: 0.8643 - loss: 0.5022 - precision: 0.8728 - recall: 0.8495 - val_accuracy: 0.9029 - val_loss: 0.4279 - val_precision: 0.9113 - val_recall: 0.8898 - learning_rate: 0.0010\n",
            "Epoch 11/50\n",
            "\u001b[1m143/143\u001b[0m \u001b[32m━━━━━━━━━━━━━━━━━━━━\u001b[0m\u001b[37m\u001b[0m \u001b[1m0s\u001b[0m 114ms/step - accuracy: 0.8771 - loss: 0.4740 - precision: 0.8874 - recall: 0.8585\n",
            "Epoch 11: val_loss improved from 0.42731 to 0.39601, saving model to /content/drive/MyDrive/PROJETO IA 2024-2025/modelos_salvos/melhor_modelo_tumores_sem_VC.keras\n",
            "\u001b[1m143/143\u001b[0m \u001b[32m━━━━━━━━━━━━━━━━━━━━\u001b[0m\u001b[37m\u001b[0m \u001b[1m17s\u001b[0m 121ms/step - accuracy: 0.8771 - loss: 0.4739 - precision: 0.8874 - recall: 0.8586 - val_accuracy: 0.9151 - val_loss: 0.3960 - val_precision: 0.9225 - val_recall: 0.9055 - learning_rate: 0.0010\n",
            "Epoch 12/50\n",
            "\u001b[1m143/143\u001b[0m \u001b[32m━━━━━━━━━━━━━━━━━━━━\u001b[0m\u001b[37m\u001b[0m \u001b[1m0s\u001b[0m 115ms/step - accuracy: 0.8821 - loss: 0.4562 - precision: 0.8949 - recall: 0.8674\n",
            "Epoch 12: val_loss improved from 0.39601 to 0.39541, saving model to /content/drive/MyDrive/PROJETO IA 2024-2025/modelos_salvos/melhor_modelo_tumores_sem_VC.keras\n",
            "\u001b[1m143/143\u001b[0m \u001b[32m━━━━━━━━━━━━━━━━━━━━\u001b[0m\u001b[37m\u001b[0m \u001b[1m17s\u001b[0m 121ms/step - accuracy: 0.8822 - loss: 0.4562 - precision: 0.8949 - recall: 0.8674 - val_accuracy: 0.9099 - val_loss: 0.3954 - val_precision: 0.9195 - val_recall: 0.8994 - learning_rate: 0.0010\n",
            "Epoch 13/50\n",
            "\u001b[1m143/143\u001b[0m \u001b[32m━━━━━━━━━━━━━━━━━━━━\u001b[0m\u001b[37m\u001b[0m \u001b[1m0s\u001b[0m 124ms/step - accuracy: 0.8821 - loss: 0.4655 - precision: 0.8925 - recall: 0.8691\n",
            "Epoch 13: val_loss improved from 0.39541 to 0.38915, saving model to /content/drive/MyDrive/PROJETO IA 2024-2025/modelos_salvos/melhor_modelo_tumores_sem_VC.keras\n",
            "\u001b[1m143/143\u001b[0m \u001b[32m━━━━━━━━━━━━━━━━━━━━\u001b[0m\u001b[37m\u001b[0m \u001b[1m19s\u001b[0m 135ms/step - accuracy: 0.8821 - loss: 0.4653 - precision: 0.8926 - recall: 0.8691 - val_accuracy: 0.9134 - val_loss: 0.3892 - val_precision: 0.9194 - val_recall: 0.9081 - learning_rate: 0.0010\n",
            "Epoch 14/50\n",
            "\u001b[1m143/143\u001b[0m \u001b[32m━━━━━━━━━━━━━━━━━━━━\u001b[0m\u001b[37m\u001b[0m \u001b[1m0s\u001b[0m 114ms/step - accuracy: 0.8875 - loss: 0.4562 - precision: 0.8975 - recall: 0.8747\n",
            "Epoch 14: val_loss did not improve from 0.38915\n",
            "\u001b[1m143/143\u001b[0m \u001b[32m━━━━━━━━━━━━━━━━━━━━\u001b[0m\u001b[37m\u001b[0m \u001b[1m17s\u001b[0m 120ms/step - accuracy: 0.8875 - loss: 0.4562 - precision: 0.8975 - recall: 0.8747 - val_accuracy: 0.9108 - val_loss: 0.3944 - val_precision: 0.9190 - val_recall: 0.9038 - learning_rate: 0.0010\n",
            "Epoch 15/50\n",
            "\u001b[1m143/143\u001b[0m \u001b[32m━━━━━━━━━━━━━━━━━━━━\u001b[0m\u001b[37m\u001b[0m \u001b[1m0s\u001b[0m 114ms/step - accuracy: 0.9007 - loss: 0.4178 - precision: 0.9093 - recall: 0.8925\n",
            "Epoch 15: val_loss improved from 0.38915 to 0.37414, saving model to /content/drive/MyDrive/PROJETO IA 2024-2025/modelos_salvos/melhor_modelo_tumores_sem_VC.keras\n",
            "\u001b[1m143/143\u001b[0m \u001b[32m━━━━━━━━━━━━━━━━━━━━\u001b[0m\u001b[37m\u001b[0m \u001b[1m21s\u001b[0m 121ms/step - accuracy: 0.9007 - loss: 0.4177 - precision: 0.9094 - recall: 0.8925 - val_accuracy: 0.9195 - val_loss: 0.3741 - val_precision: 0.9246 - val_recall: 0.9116 - learning_rate: 0.0010\n",
            "Epoch 16/50\n",
            "\u001b[1m143/143\u001b[0m \u001b[32m━━━━━━━━━━━━━━━━━━━━\u001b[0m\u001b[37m\u001b[0m \u001b[1m0s\u001b[0m 116ms/step - accuracy: 0.8983 - loss: 0.4414 - precision: 0.9083 - recall: 0.8852\n",
            "Epoch 16: val_loss did not improve from 0.37414\n",
            "\u001b[1m143/143\u001b[0m \u001b[32m━━━━━━━━━━━━━━━━━━━━\u001b[0m\u001b[37m\u001b[0m \u001b[1m21s\u001b[0m 122ms/step - accuracy: 0.8983 - loss: 0.4414 - precision: 0.9083 - recall: 0.8853 - val_accuracy: 0.9221 - val_loss: 0.3839 - val_precision: 0.9279 - val_recall: 0.9116 - learning_rate: 0.0010\n",
            "Epoch 17/50\n",
            "\u001b[1m143/143\u001b[0m \u001b[32m━━━━━━━━━━━━━━━━━━━━\u001b[0m\u001b[37m\u001b[0m \u001b[1m0s\u001b[0m 115ms/step - accuracy: 0.9022 - loss: 0.4200 - precision: 0.9128 - recall: 0.8905\n",
            "Epoch 17: val_loss did not improve from 0.37414\n",
            "\u001b[1m143/143\u001b[0m \u001b[32m━━━━━━━━━━━━━━━━━━━━\u001b[0m\u001b[37m\u001b[0m \u001b[1m17s\u001b[0m 122ms/step - accuracy: 0.9023 - loss: 0.4199 - precision: 0.9129 - recall: 0.8906 - val_accuracy: 0.9116 - val_loss: 0.4071 - val_precision: 0.9184 - val_recall: 0.9064 - learning_rate: 0.0010\n",
            "Epoch 18/50\n",
            "\u001b[1m143/143\u001b[0m \u001b[32m━━━━━━━━━━━━━━━━━━━━\u001b[0m\u001b[37m\u001b[0m \u001b[1m0s\u001b[0m 126ms/step - accuracy: 0.8932 - loss: 0.4246 - precision: 0.8987 - recall: 0.8825\n",
            "Epoch 18: val_loss improved from 0.37414 to 0.35852, saving model to /content/drive/MyDrive/PROJETO IA 2024-2025/modelos_salvos/melhor_modelo_tumores_sem_VC.keras\n",
            "\u001b[1m143/143\u001b[0m \u001b[32m━━━━━━━━━━━━━━━━━━━━\u001b[0m\u001b[37m\u001b[0m \u001b[1m23s\u001b[0m 136ms/step - accuracy: 0.8933 - loss: 0.4245 - precision: 0.8988 - recall: 0.8826 - val_accuracy: 0.9326 - val_loss: 0.3585 - val_precision: 0.9363 - val_recall: 0.9256 - learning_rate: 0.0010\n",
            "Epoch 19/50\n",
            "\u001b[1m143/143\u001b[0m \u001b[32m━━━━━━━━━━━━━━━━━━━━\u001b[0m\u001b[37m\u001b[0m \u001b[1m0s\u001b[0m 116ms/step - accuracy: 0.9056 - loss: 0.4196 - precision: 0.9097 - recall: 0.8991\n",
            "Epoch 19: val_loss did not improve from 0.35852\n",
            "\u001b[1m143/143\u001b[0m \u001b[32m━━━━━━━━━━━━━━━━━━━━\u001b[0m\u001b[37m\u001b[0m \u001b[1m19s\u001b[0m 123ms/step - accuracy: 0.9056 - loss: 0.4195 - precision: 0.9098 - recall: 0.8991 - val_accuracy: 0.9256 - val_loss: 0.3681 - val_precision: 0.9342 - val_recall: 0.9195 - learning_rate: 0.0010\n",
            "Epoch 20/50\n",
            "\u001b[1m143/143\u001b[0m \u001b[32m━━━━━━━━━━━━━━━━━━━━\u001b[0m\u001b[37m\u001b[0m \u001b[1m0s\u001b[0m 115ms/step - accuracy: 0.9120 - loss: 0.4029 - precision: 0.9179 - recall: 0.9029\n",
            "Epoch 20: val_loss did not improve from 0.35852\n",
            "\u001b[1m143/143\u001b[0m \u001b[32m━━━━━━━━━━━━━━━━━━━━\u001b[0m\u001b[37m\u001b[0m \u001b[1m17s\u001b[0m 121ms/step - accuracy: 0.9120 - loss: 0.4029 - precision: 0.9179 - recall: 0.9029 - val_accuracy: 0.9344 - val_loss: 0.3626 - val_precision: 0.9380 - val_recall: 0.9265 - learning_rate: 0.0010\n",
            "Epoch 21/50\n",
            "\u001b[1m143/143\u001b[0m \u001b[32m━━━━━━━━━━━━━━━━━━━━\u001b[0m\u001b[37m\u001b[0m \u001b[1m0s\u001b[0m 116ms/step - accuracy: 0.9179 - loss: 0.4105 - precision: 0.9226 - recall: 0.9102\n",
            "Epoch 21: val_loss improved from 0.35852 to 0.33971, saving model to /content/drive/MyDrive/PROJETO IA 2024-2025/modelos_salvos/melhor_modelo_tumores_sem_VC.keras\n",
            "\u001b[1m143/143\u001b[0m \u001b[32m━━━━━━━━━━━━━━━━━━━━\u001b[0m\u001b[37m\u001b[0m \u001b[1m21s\u001b[0m 123ms/step - accuracy: 0.9180 - loss: 0.4104 - precision: 0.9227 - recall: 0.9103 - val_accuracy: 0.9335 - val_loss: 0.3397 - val_precision: 0.9382 - val_recall: 0.9300 - learning_rate: 0.0010\n",
            "Epoch 22/50\n",
            "\u001b[1m143/143\u001b[0m \u001b[32m━━━━━━━━━━━━━━━━━━━━\u001b[0m\u001b[37m\u001b[0m \u001b[1m0s\u001b[0m 113ms/step - accuracy: 0.9222 - loss: 0.3836 - precision: 0.9279 - recall: 0.9115\n",
            "Epoch 22: val_loss improved from 0.33971 to 0.33372, saving model to /content/drive/MyDrive/PROJETO IA 2024-2025/modelos_salvos/melhor_modelo_tumores_sem_VC.keras\n",
            "\u001b[1m143/143\u001b[0m \u001b[32m━━━━━━━━━━━━━━━━━━━━\u001b[0m\u001b[37m\u001b[0m \u001b[1m20s\u001b[0m 123ms/step - accuracy: 0.9223 - loss: 0.3835 - precision: 0.9279 - recall: 0.9115 - val_accuracy: 0.9414 - val_loss: 0.3337 - val_precision: 0.9452 - val_recall: 0.9361 - learning_rate: 0.0010\n",
            "Epoch 23/50\n",
            "\u001b[1m143/143\u001b[0m \u001b[32m━━━━━━━━━━━━━━━━━━━━\u001b[0m\u001b[37m\u001b[0m \u001b[1m0s\u001b[0m 123ms/step - accuracy: 0.9139 - loss: 0.3832 - precision: 0.9209 - recall: 0.9085\n",
            "Epoch 23: val_loss did not improve from 0.33372\n",
            "\u001b[1m143/143\u001b[0m \u001b[32m━━━━━━━━━━━━━━━━━━━━\u001b[0m\u001b[37m\u001b[0m \u001b[1m19s\u001b[0m 133ms/step - accuracy: 0.9139 - loss: 0.3832 - precision: 0.9209 - recall: 0.9085 - val_accuracy: 0.9309 - val_loss: 0.3434 - val_precision: 0.9362 - val_recall: 0.9248 - learning_rate: 0.0010\n",
            "Epoch 24/50\n",
            "\u001b[1m143/143\u001b[0m \u001b[32m━━━━━━━━━━━━━━━━━━━━\u001b[0m\u001b[37m\u001b[0m \u001b[1m0s\u001b[0m 114ms/step - accuracy: 0.9248 - loss: 0.3702 - precision: 0.9293 - recall: 0.9178\n",
            "Epoch 24: val_loss did not improve from 0.33372\n",
            "\u001b[1m143/143\u001b[0m \u001b[32m━━━━━━━━━━━━━━━━━━━━\u001b[0m\u001b[37m\u001b[0m \u001b[1m19s\u001b[0m 120ms/step - accuracy: 0.9248 - loss: 0.3701 - precision: 0.9294 - recall: 0.9179 - val_accuracy: 0.9370 - val_loss: 0.3350 - val_precision: 0.9425 - val_recall: 0.9318 - learning_rate: 0.0010\n",
            "Epoch 25/50\n",
            "\u001b[1m143/143\u001b[0m \u001b[32m━━━━━━━━━━━━━━━━━━━━\u001b[0m\u001b[37m\u001b[0m \u001b[1m0s\u001b[0m 116ms/step - accuracy: 0.9216 - loss: 0.3780 - precision: 0.9270 - recall: 0.9156\n",
            "Epoch 25: val_loss did not improve from 0.33372\n",
            "\u001b[1m143/143\u001b[0m \u001b[32m━━━━━━━━━━━━━━━━━━━━\u001b[0m\u001b[37m\u001b[0m \u001b[1m17s\u001b[0m 122ms/step - accuracy: 0.9216 - loss: 0.3780 - precision: 0.9270 - recall: 0.9156 - val_accuracy: 0.9335 - val_loss: 0.3340 - val_precision: 0.9408 - val_recall: 0.9309 - learning_rate: 0.0010\n",
            "Epoch 26/50\n",
            "\u001b[1m143/143\u001b[0m \u001b[32m━━━━━━━━━━━━━━━━━━━━\u001b[0m\u001b[37m\u001b[0m \u001b[1m0s\u001b[0m 118ms/step - accuracy: 0.9314 - loss: 0.3583 - precision: 0.9353 - recall: 0.9287\n",
            "Epoch 26: val_loss improved from 0.33372 to 0.31012, saving model to /content/drive/MyDrive/PROJETO IA 2024-2025/modelos_salvos/melhor_modelo_tumores_sem_VC.keras\n",
            "\u001b[1m143/143\u001b[0m \u001b[32m━━━━━━━━━━━━━━━━━━━━\u001b[0m\u001b[37m\u001b[0m \u001b[1m19s\u001b[0m 130ms/step - accuracy: 0.9314 - loss: 0.3582 - precision: 0.9353 - recall: 0.9288 - val_accuracy: 0.9501 - val_loss: 0.3101 - val_precision: 0.9525 - val_recall: 0.9484 - learning_rate: 0.0010\n",
            "Epoch 27/50\n",
            "\u001b[1m143/143\u001b[0m \u001b[32m━━━━━━━━━━━━━━━━━━━━\u001b[0m\u001b[37m\u001b[0m \u001b[1m0s\u001b[0m 117ms/step - accuracy: 0.9308 - loss: 0.3540 - precision: 0.9360 - recall: 0.9210\n",
            "Epoch 27: val_loss did not improve from 0.31012\n",
            "\u001b[1m143/143\u001b[0m \u001b[32m━━━━━━━━━━━━━━━━━━━━\u001b[0m\u001b[37m\u001b[0m \u001b[1m19s\u001b[0m 123ms/step - accuracy: 0.9308 - loss: 0.3540 - precision: 0.9360 - recall: 0.9210 - val_accuracy: 0.9405 - val_loss: 0.3289 - val_precision: 0.9435 - val_recall: 0.9353 - learning_rate: 0.0010\n",
            "Epoch 28/50\n",
            "\u001b[1m143/143\u001b[0m \u001b[32m━━━━━━━━━━━━━━━━━━━━\u001b[0m\u001b[37m\u001b[0m \u001b[1m0s\u001b[0m 116ms/step - accuracy: 0.9263 - loss: 0.3623 - precision: 0.9309 - recall: 0.9235\n",
            "Epoch 28: val_loss did not improve from 0.31012\n",
            "\u001b[1m143/143\u001b[0m \u001b[32m━━━━━━━━━━━━━━━━━━━━\u001b[0m\u001b[37m\u001b[0m \u001b[1m21s\u001b[0m 125ms/step - accuracy: 0.9264 - loss: 0.3622 - precision: 0.9309 - recall: 0.9235 - val_accuracy: 0.9449 - val_loss: 0.3362 - val_precision: 0.9470 - val_recall: 0.9388 - learning_rate: 0.0010\n",
            "Epoch 29/50\n",
            "\u001b[1m143/143\u001b[0m \u001b[32m━━━━━━━━━━━━━━━━━━━━\u001b[0m\u001b[37m\u001b[0m \u001b[1m0s\u001b[0m 124ms/step - accuracy: 0.9177 - loss: 0.3741 - precision: 0.9245 - recall: 0.9124\n",
            "Epoch 29: val_loss did not improve from 0.31012\n",
            "\u001b[1m143/143\u001b[0m \u001b[32m━━━━━━━━━━━━━━━━━━━━\u001b[0m\u001b[37m\u001b[0m \u001b[1m19s\u001b[0m 130ms/step - accuracy: 0.9178 - loss: 0.3740 - precision: 0.9245 - recall: 0.9125 - val_accuracy: 0.9423 - val_loss: 0.3384 - val_precision: 0.9487 - val_recall: 0.9379 - learning_rate: 0.0010\n",
            "Epoch 30/50\n",
            "\u001b[1m143/143\u001b[0m \u001b[32m━━━━━━━━━━━━━━━━━━━━\u001b[0m\u001b[37m\u001b[0m \u001b[1m0s\u001b[0m 116ms/step - accuracy: 0.9261 - loss: 0.3592 - precision: 0.9311 - recall: 0.9200\n",
            "Epoch 30: val_loss did not improve from 0.31012\n",
            "\u001b[1m143/143\u001b[0m \u001b[32m━━━━━━━━━━━━━━━━━━━━\u001b[0m\u001b[37m\u001b[0m \u001b[1m20s\u001b[0m 125ms/step - accuracy: 0.9261 - loss: 0.3591 - precision: 0.9311 - recall: 0.9200 - val_accuracy: 0.9396 - val_loss: 0.3510 - val_precision: 0.9420 - val_recall: 0.9370 - learning_rate: 0.0010\n",
            "Epoch 31/50\n",
            "\u001b[1m143/143\u001b[0m \u001b[32m━━━━━━━━━━━━━━━━━━━━\u001b[0m\u001b[37m\u001b[0m \u001b[1m0s\u001b[0m 115ms/step - accuracy: 0.9324 - loss: 0.3574 - precision: 0.9367 - recall: 0.9267\n",
            "Epoch 31: val_loss did not improve from 0.31012\n",
            "\u001b[1m143/143\u001b[0m \u001b[32m━━━━━━━━━━━━━━━━━━━━\u001b[0m\u001b[37m\u001b[0m \u001b[1m17s\u001b[0m 121ms/step - accuracy: 0.9324 - loss: 0.3574 - precision: 0.9367 - recall: 0.9267 - val_accuracy: 0.9440 - val_loss: 0.3335 - val_precision: 0.9489 - val_recall: 0.9414 - learning_rate: 0.0010\n"
          ]
        },
        {
          "output_type": "display_data",
          "data": {
            "text/plain": [
              "<Figure size 1200x500 with 2 Axes>"
            ],
            "image/png": "[encoded data removed]"
          },
          "metadata": {}
        },
        {
          "output_type": "stream",
          "name": "stdout",
          "text": [
            "\n",
            "Avaliação do modelo final no conjunto de teste:\n",
            "\u001b[1m41/41\u001b[0m \u001b[32m━━━━━━━━━━━━━━━━━━━━\u001b[0m\u001b[37m\u001b[0m \u001b[1m4s\u001b[0m 92ms/step - accuracy: 0.9044 - loss: 0.4032 - precision: 0.9073 - recall: 0.9034\n",
            "Loss no teste: 0.3393\n",
            "Acurácia no teste: 0.9390\n",
            "Precisão no teste: 0.9418\n",
            "Recall no teste: 0.9382\n",
            "\u001b[1m41/41\u001b[0m \u001b[32m━━━━━━━━━━━━━━━━━━━━\u001b[0m\u001b[37m\u001b[0m \u001b[1m1s\u001b[0m 28ms/step\n"
          ]
        },
        {
          "output_type": "error",
          "ename": "AttributeError",
          "evalue": "'_PrefetchDataset' object has no attribute 'class_names'",
          "traceback": [
            "\u001b[0;31m---------------------------------------------------------------------------\u001b[0m",
            "\u001b[0;31mAttributeError\u001b[0m                            Traceback (most recent call last)",
            "\u001b[0;32m/tmp/ipython-input-48-3979810823.py\u001b[0m in \u001b[0;36m<cell line: 0>\u001b[0;34m()\u001b[0m\n\u001b[1;32m    189\u001b[0m \u001b[0;34m\u001b[0m\u001b[0m\n\u001b[1;32m    190\u001b[0m \u001b[0;31m# 3. Calcular a matriz de confusão\u001b[0m\u001b[0;34m\u001b[0m\u001b[0;34m\u001b[0m\u001b[0m\n\u001b[0;32m--> 191\u001b[0;31m \u001b[0mclass_names\u001b[0m \u001b[0;34m=\u001b[0m \u001b[0mtest_dataset\u001b[0m\u001b[0;34m.\u001b[0m\u001b[0mclass_names\u001b[0m\u001b[0;34m\u001b[0m\u001b[0;34m\u001b[0m\u001b[0m\n\u001b[0m\u001b[1;32m    192\u001b[0m \u001b[0mconf_matrix\u001b[0m \u001b[0;34m=\u001b[0m \u001b[0mconfusion_matrix\u001b[0m\u001b[0;34m(\u001b[0m\u001b[0my_true\u001b[0m\u001b[0;34m,\u001b[0m \u001b[0my_pred\u001b[0m\u001b[0;34m)\u001b[0m\u001b[0;34m\u001b[0m\u001b[0;34m\u001b[0m\u001b[0m\n\u001b[1;32m    193\u001b[0m \u001b[0;34m\u001b[0m\u001b[0m\n",
            "\u001b[0;31mAttributeError\u001b[0m: '_PrefetchDataset' object has no attribute 'class_names'"
          ]
        }
      ]
    },
    {
      "cell_type": "markdown",
      "source": [
        "# DANDO PREDICT NO MODELO"
      ],
      "metadata": {
        "id": "bJuI2ot9qQKh"
      }
    },
    {
      "cell_type": "code",
      "source": [
        "# Pegar o nome das classes\n",
        "import os\n",
        "\n",
        "test_dir = \"/kaggle/input/brain-tumor-mri-dataset/Testing\"\n",
        "\n",
        "# Listar os diretórios dentro do diretório de teste\n",
        "print(\"Diretórios dentro de:\", test_dir)\n",
        "for class_name in os.listdir(test_dir):\n",
        "    class_path = os.path.join(test_dir, class_name)\n",
        "    if os.path.isdir(class_path):\n",
        "        print(f\"- {class_name}/\")"
      ],
      "metadata": {
        "id": "2MJLp3VMXwO1"
      },
      "execution_count": null,
      "outputs": []
    },
    {
      "cell_type": "code",
      "metadata": {
        "id": "e773dcea"
      },
      "source": [
        "# Carregar o modelo treinado\n",
        "model_path = '/content/drive/MyDrive/PROJETO IA 2024-2025/modelos_salvos/melhor_modelo_tumores_sem_VC.keras'\n",
        "loaded_model = keras.models.load_model(model_path)\n",
        "\n",
        "# Carregar e pré-processar uma nova imagem\n",
        "def load_and_preprocess_image(image_path, image_size):\n",
        "    img = tf.io.read_file(image_path)\n",
        "    img = tf.image.decode_jpeg(img, channels=3) # Decodificar JPEG (se for outro formato, só mudar)\n",
        "    img = tf.image.resize(img, image_size)\n",
        "    img = tf.expand_dims(img, axis=0)\n",
        "    return img\n",
        "\n",
        "# Caminho para a imagem que quer prever\n",
        "new_image_path = '/content/drive/MyDrive/PROJETO IA 2024-2025/Testes/glioma/G_108.jpg'\n",
        "\n",
        "# Definir o tamanho da imagem (deve ser o mesmo tamanho usado no treinamento)\n",
        "IMAGE_SIZE_PREDICT = (64, 64)\n",
        "\n",
        "# Carregar e pré-processar a nova imagem\n",
        "new_image = load_and_preprocess_image(new_image_path, IMAGE_SIZE_PREDICT)\n",
        "\n",
        "# Fazer a previsão\n",
        "predictions = loaded_model.predict(new_image)\n",
        "predicted_class_index = np.argmax(predictions)\n",
        "\n",
        "# Mapear o índice previsto de volta para o nome da classe\n",
        "class_names = sorted(os.listdir(\"/kaggle/input/brain-tumor-mri-dataset/Training\"))\n",
        "predicted_class_name = class_names[predicted_class_index]\n",
        "\n",
        "print(f\"A imagem é prevista como: {predicted_class_name}\")\n",
        "\n",
        "# Plotar as previsões em um gráfico de barras\n",
        "plt.figure(figsize=(8, 5))\n",
        "plt.bar(class_names, predictions[0])\n",
        "plt.xlabel(\"Classes\")\n",
        "plt.ylabel(\"Probabilidade\")\n",
        "plt.title(\"Probabilidade de Previsão por Classe\")\n",
        "plt.ylim(0, 1) # Definir o limite do eixo y entre 0 e 1\n",
        "plt.show()"
      ],
      "execution_count": null,
      "outputs": []
    },
    {
      "cell_type": "markdown",
      "metadata": {
        "id": "6d554d0f"
      },
      "source": [
        "**Como usar:**\n",
        "\n",
        "1.  **Atualize os caminhos:** Substitua o valor de `model_path` pelo caminho real do seu modelo salvo no Google Drive. Substitua o valor de `new_image_path` pelo caminho da imagem que você deseja prever.\n",
        "2.  **Verifique `IMAGE_SIZE_PREDICT`:** Certifique-se de que `IMAGE_SIZE_PREDICT` é o mesmo tamanho de imagem que você usou durante o treinamento do modelo.\n",
        "3.  **Verifique `class_names`:** Se a variável `class_names` não estiver definida globalmente, descomente e execute a linha que a define a partir do diretório \"Training\" para que o código possa mapear o índice previsto para o nome da classe.\n",
        "4.  **Execute a célula:** Execute a célula de código para obter a previsão."
      ]
    },
    {
      "cell_type": "code",
      "metadata": {
        "colab": {
          "base_uri": "https://localhost:8080/",
          "height": 629
        },
        "id": "72e852c6",
        "outputId": "7f3e00ed-2cc4-458f-d2ca-5194f72f467f"
      },
      "source": [
        "model.summary()"
      ],
      "execution_count": 50,
      "outputs": [
        {
          "output_type": "display_data",
          "data": {
            "text/plain": [
              "\u001b[1mModel: \"sequential_2\"\u001b[0m\n"
            ],
            "text/html": [
              "<pre style=\"white-space:pre;overflow-x:auto;line-height:normal;font-family:Menlo,'DejaVu Sans Mono',consolas,'Courier New',monospace\"><span style=\"font-weight: bold\">Model: \"sequential_2\"</span>\n",
              "</pre>\n"
            ]
          },
          "metadata": {}
        },
        {
          "output_type": "display_data",
          "data": {
            "text/plain": [
              "┏━━━━━━━━━━━━━━━━━━━━━━━━━━━━━━━━━┳━━━━━━━━━━━━━━━━━━━━━━━━┳━━━━━━━━━━━━━━━┓\n",
              "┃\u001b[1m \u001b[0m\u001b[1mLayer (type)                   \u001b[0m\u001b[1m \u001b[0m┃\u001b[1m \u001b[0m\u001b[1mOutput Shape          \u001b[0m\u001b[1m \u001b[0m┃\u001b[1m \u001b[0m\u001b[1m      Param #\u001b[0m\u001b[1m \u001b[0m┃\n",
              "┡━━━━━━━━━━━━━━━━━━━━━━━━━━━━━━━━━╇━━━━━━━━━━━━━━━━━━━━━━━━╇━━━━━━━━━━━━━━━┩\n",
              "│ rescaling_2 (\u001b[38;5;33mRescaling\u001b[0m)         │ (\u001b[38;5;45mNone\u001b[0m, \u001b[38;5;34m64\u001b[0m, \u001b[38;5;34m64\u001b[0m, \u001b[38;5;34m3\u001b[0m)      │             \u001b[38;5;34m0\u001b[0m │\n",
              "├─────────────────────────────────┼────────────────────────┼───────────────┤\n",
              "│ conv2d_6 (\u001b[38;5;33mConv2D\u001b[0m)               │ (\u001b[38;5;45mNone\u001b[0m, \u001b[38;5;34m62\u001b[0m, \u001b[38;5;34m62\u001b[0m, \u001b[38;5;34m16\u001b[0m)     │           \u001b[38;5;34m448\u001b[0m │\n",
              "├─────────────────────────────────┼────────────────────────┼───────────────┤\n",
              "│ max_pooling2d_6 (\u001b[38;5;33mMaxPooling2D\u001b[0m)  │ (\u001b[38;5;45mNone\u001b[0m, \u001b[38;5;34m31\u001b[0m, \u001b[38;5;34m31\u001b[0m, \u001b[38;5;34m16\u001b[0m)     │             \u001b[38;5;34m0\u001b[0m │\n",
              "├─────────────────────────────────┼────────────────────────┼───────────────┤\n",
              "│ dropout_8 (\u001b[38;5;33mDropout\u001b[0m)             │ (\u001b[38;5;45mNone\u001b[0m, \u001b[38;5;34m31\u001b[0m, \u001b[38;5;34m31\u001b[0m, \u001b[38;5;34m16\u001b[0m)     │             \u001b[38;5;34m0\u001b[0m │\n",
              "├─────────────────────────────────┼────────────────────────┼───────────────┤\n",
              "│ conv2d_7 (\u001b[38;5;33mConv2D\u001b[0m)               │ (\u001b[38;5;45mNone\u001b[0m, \u001b[38;5;34m29\u001b[0m, \u001b[38;5;34m29\u001b[0m, \u001b[38;5;34m32\u001b[0m)     │         \u001b[38;5;34m4,640\u001b[0m │\n",
              "├─────────────────────────────────┼────────────────────────┼───────────────┤\n",
              "│ max_pooling2d_7 (\u001b[38;5;33mMaxPooling2D\u001b[0m)  │ (\u001b[38;5;45mNone\u001b[0m, \u001b[38;5;34m14\u001b[0m, \u001b[38;5;34m14\u001b[0m, \u001b[38;5;34m32\u001b[0m)     │             \u001b[38;5;34m0\u001b[0m │\n",
              "├─────────────────────────────────┼────────────────────────┼───────────────┤\n",
              "│ dropout_9 (\u001b[38;5;33mDropout\u001b[0m)             │ (\u001b[38;5;45mNone\u001b[0m, \u001b[38;5;34m14\u001b[0m, \u001b[38;5;34m14\u001b[0m, \u001b[38;5;34m32\u001b[0m)     │             \u001b[38;5;34m0\u001b[0m │\n",
              "├─────────────────────────────────┼────────────────────────┼───────────────┤\n",
              "│ conv2d_8 (\u001b[38;5;33mConv2D\u001b[0m)               │ (\u001b[38;5;45mNone\u001b[0m, \u001b[38;5;34m12\u001b[0m, \u001b[38;5;34m12\u001b[0m, \u001b[38;5;34m64\u001b[0m)     │        \u001b[38;5;34m18,496\u001b[0m │\n",
              "├─────────────────────────────────┼────────────────────────┼───────────────┤\n",
              "│ max_pooling2d_8 (\u001b[38;5;33mMaxPooling2D\u001b[0m)  │ (\u001b[38;5;45mNone\u001b[0m, \u001b[38;5;34m6\u001b[0m, \u001b[38;5;34m6\u001b[0m, \u001b[38;5;34m64\u001b[0m)       │             \u001b[38;5;34m0\u001b[0m │\n",
              "├─────────────────────────────────┼────────────────────────┼───────────────┤\n",
              "│ dropout_10 (\u001b[38;5;33mDropout\u001b[0m)            │ (\u001b[38;5;45mNone\u001b[0m, \u001b[38;5;34m6\u001b[0m, \u001b[38;5;34m6\u001b[0m, \u001b[38;5;34m64\u001b[0m)       │             \u001b[38;5;34m0\u001b[0m │\n",
              "├─────────────────────────────────┼────────────────────────┼───────────────┤\n",
              "│ flatten_2 (\u001b[38;5;33mFlatten\u001b[0m)             │ (\u001b[38;5;45mNone\u001b[0m, \u001b[38;5;34m2304\u001b[0m)           │             \u001b[38;5;34m0\u001b[0m │\n",
              "├─────────────────────────────────┼────────────────────────┼───────────────┤\n",
              "│ dense_4 (\u001b[38;5;33mDense\u001b[0m)                 │ (\u001b[38;5;45mNone\u001b[0m, \u001b[38;5;34m128\u001b[0m)            │       \u001b[38;5;34m295,040\u001b[0m │\n",
              "├─────────────────────────────────┼────────────────────────┼───────────────┤\n",
              "│ dropout_11 (\u001b[38;5;33mDropout\u001b[0m)            │ (\u001b[38;5;45mNone\u001b[0m, \u001b[38;5;34m128\u001b[0m)            │             \u001b[38;5;34m0\u001b[0m │\n",
              "├─────────────────────────────────┼────────────────────────┼───────────────┤\n",
              "│ dense_5 (\u001b[38;5;33mDense\u001b[0m)                 │ (\u001b[38;5;45mNone\u001b[0m, \u001b[38;5;34m4\u001b[0m)              │           \u001b[38;5;34m516\u001b[0m │\n",
              "└─────────────────────────────────┴────────────────────────┴───────────────┘\n"
            ],
            "text/html": [
              "<pre style=\"white-space:pre;overflow-x:auto;line-height:normal;font-family:Menlo,'DejaVu Sans Mono',consolas,'Courier New',monospace\">┏━━━━━━━━━━━━━━━━━━━━━━━━━━━━━━━━━┳━━━━━━━━━━━━━━━━━━━━━━━━┳━━━━━━━━━━━━━━━┓\n",
              "┃<span style=\"font-weight: bold\"> Layer (type)                    </span>┃<span style=\"font-weight: bold\"> Output Shape           </span>┃<span style=\"font-weight: bold\">       Param # </span>┃\n",
              "┡━━━━━━━━━━━━━━━━━━━━━━━━━━━━━━━━━╇━━━━━━━━━━━━━━━━━━━━━━━━╇━━━━━━━━━━━━━━━┩\n",
              "│ rescaling_2 (<span style=\"color: #0087ff; text-decoration-color: #0087ff\">Rescaling</span>)         │ (<span style=\"color: #00d7ff; text-decoration-color: #00d7ff\">None</span>, <span style=\"color: #00af00; text-decoration-color: #00af00\">64</span>, <span style=\"color: #00af00; text-decoration-color: #00af00\">64</span>, <span style=\"color: #00af00; text-decoration-color: #00af00\">3</span>)      │             <span style=\"color: #00af00; text-decoration-color: #00af00\">0</span> │\n",
              "├─────────────────────────────────┼────────────────────────┼───────────────┤\n",
              "│ conv2d_6 (<span style=\"color: #0087ff; text-decoration-color: #0087ff\">Conv2D</span>)               │ (<span style=\"color: #00d7ff; text-decoration-color: #00d7ff\">None</span>, <span style=\"color: #00af00; text-decoration-color: #00af00\">62</span>, <span style=\"color: #00af00; text-decoration-color: #00af00\">62</span>, <span style=\"color: #00af00; text-decoration-color: #00af00\">16</span>)     │           <span style=\"color: #00af00; text-decoration-color: #00af00\">448</span> │\n",
              "├─────────────────────────────────┼────────────────────────┼───────────────┤\n",
              "│ max_pooling2d_6 (<span style=\"color: #0087ff; text-decoration-color: #0087ff\">MaxPooling2D</span>)  │ (<span style=\"color: #00d7ff; text-decoration-color: #00d7ff\">None</span>, <span style=\"color: #00af00; text-decoration-color: #00af00\">31</span>, <span style=\"color: #00af00; text-decoration-color: #00af00\">31</span>, <span style=\"color: #00af00; text-decoration-color: #00af00\">16</span>)     │             <span style=\"color: #00af00; text-decoration-color: #00af00\">0</span> │\n",
              "├─────────────────────────────────┼────────────────────────┼───────────────┤\n",
              "│ dropout_8 (<span style=\"color: #0087ff; text-decoration-color: #0087ff\">Dropout</span>)             │ (<span style=\"color: #00d7ff; text-decoration-color: #00d7ff\">None</span>, <span style=\"color: #00af00; text-decoration-color: #00af00\">31</span>, <span style=\"color: #00af00; text-decoration-color: #00af00\">31</span>, <span style=\"color: #00af00; text-decoration-color: #00af00\">16</span>)     │             <span style=\"color: #00af00; text-decoration-color: #00af00\">0</span> │\n",
              "├─────────────────────────────────┼────────────────────────┼───────────────┤\n",
              "│ conv2d_7 (<span style=\"color: #0087ff; text-decoration-color: #0087ff\">Conv2D</span>)               │ (<span style=\"color: #00d7ff; text-decoration-color: #00d7ff\">None</span>, <span style=\"color: #00af00; text-decoration-color: #00af00\">29</span>, <span style=\"color: #00af00; text-decoration-color: #00af00\">29</span>, <span style=\"color: #00af00; text-decoration-color: #00af00\">32</span>)     │         <span style=\"color: #00af00; text-decoration-color: #00af00\">4,640</span> │\n",
              "├─────────────────────────────────┼────────────────────────┼───────────────┤\n",
              "│ max_pooling2d_7 (<span style=\"color: #0087ff; text-decoration-color: #0087ff\">MaxPooling2D</span>)  │ (<span style=\"color: #00d7ff; text-decoration-color: #00d7ff\">None</span>, <span style=\"color: #00af00; text-decoration-color: #00af00\">14</span>, <span style=\"color: #00af00; text-decoration-color: #00af00\">14</span>, <span style=\"color: #00af00; text-decoration-color: #00af00\">32</span>)     │             <span style=\"color: #00af00; text-decoration-color: #00af00\">0</span> │\n",
              "├─────────────────────────────────┼────────────────────────┼───────────────┤\n",
              "│ dropout_9 (<span style=\"color: #0087ff; text-decoration-color: #0087ff\">Dropout</span>)             │ (<span style=\"color: #00d7ff; text-decoration-color: #00d7ff\">None</span>, <span style=\"color: #00af00; text-decoration-color: #00af00\">14</span>, <span style=\"color: #00af00; text-decoration-color: #00af00\">14</span>, <span style=\"color: #00af00; text-decoration-color: #00af00\">32</span>)     │             <span style=\"color: #00af00; text-decoration-color: #00af00\">0</span> │\n",
              "├─────────────────────────────────┼────────────────────────┼───────────────┤\n",
              "│ conv2d_8 (<span style=\"color: #0087ff; text-decoration-color: #0087ff\">Conv2D</span>)               │ (<span style=\"color: #00d7ff; text-decoration-color: #00d7ff\">None</span>, <span style=\"color: #00af00; text-decoration-color: #00af00\">12</span>, <span style=\"color: #00af00; text-decoration-color: #00af00\">12</span>, <span style=\"color: #00af00; text-decoration-color: #00af00\">64</span>)     │        <span style=\"color: #00af00; text-decoration-color: #00af00\">18,496</span> │\n",
              "├─────────────────────────────────┼────────────────────────┼───────────────┤\n",
              "│ max_pooling2d_8 (<span style=\"color: #0087ff; text-decoration-color: #0087ff\">MaxPooling2D</span>)  │ (<span style=\"color: #00d7ff; text-decoration-color: #00d7ff\">None</span>, <span style=\"color: #00af00; text-decoration-color: #00af00\">6</span>, <span style=\"color: #00af00; text-decoration-color: #00af00\">6</span>, <span style=\"color: #00af00; text-decoration-color: #00af00\">64</span>)       │             <span style=\"color: #00af00; text-decoration-color: #00af00\">0</span> │\n",
              "├─────────────────────────────────┼────────────────────────┼───────────────┤\n",
              "│ dropout_10 (<span style=\"color: #0087ff; text-decoration-color: #0087ff\">Dropout</span>)            │ (<span style=\"color: #00d7ff; text-decoration-color: #00d7ff\">None</span>, <span style=\"color: #00af00; text-decoration-color: #00af00\">6</span>, <span style=\"color: #00af00; text-decoration-color: #00af00\">6</span>, <span style=\"color: #00af00; text-decoration-color: #00af00\">64</span>)       │             <span style=\"color: #00af00; text-decoration-color: #00af00\">0</span> │\n",
              "├─────────────────────────────────┼────────────────────────┼───────────────┤\n",
              "│ flatten_2 (<span style=\"color: #0087ff; text-decoration-color: #0087ff\">Flatten</span>)             │ (<span style=\"color: #00d7ff; text-decoration-color: #00d7ff\">None</span>, <span style=\"color: #00af00; text-decoration-color: #00af00\">2304</span>)           │             <span style=\"color: #00af00; text-decoration-color: #00af00\">0</span> │\n",
              "├─────────────────────────────────┼────────────────────────┼───────────────┤\n",
              "│ dense_4 (<span style=\"color: #0087ff; text-decoration-color: #0087ff\">Dense</span>)                 │ (<span style=\"color: #00d7ff; text-decoration-color: #00d7ff\">None</span>, <span style=\"color: #00af00; text-decoration-color: #00af00\">128</span>)            │       <span style=\"color: #00af00; text-decoration-color: #00af00\">295,040</span> │\n",
              "├─────────────────────────────────┼────────────────────────┼───────────────┤\n",
              "│ dropout_11 (<span style=\"color: #0087ff; text-decoration-color: #0087ff\">Dropout</span>)            │ (<span style=\"color: #00d7ff; text-decoration-color: #00d7ff\">None</span>, <span style=\"color: #00af00; text-decoration-color: #00af00\">128</span>)            │             <span style=\"color: #00af00; text-decoration-color: #00af00\">0</span> │\n",
              "├─────────────────────────────────┼────────────────────────┼───────────────┤\n",
              "│ dense_5 (<span style=\"color: #0087ff; text-decoration-color: #0087ff\">Dense</span>)                 │ (<span style=\"color: #00d7ff; text-decoration-color: #00d7ff\">None</span>, <span style=\"color: #00af00; text-decoration-color: #00af00\">4</span>)              │           <span style=\"color: #00af00; text-decoration-color: #00af00\">516</span> │\n",
              "└─────────────────────────────────┴────────────────────────┴───────────────┘\n",
              "</pre>\n"
            ]
          },
          "metadata": {}
        },
        {
          "output_type": "display_data",
          "data": {
            "text/plain": [
              "\u001b[1m Total params: \u001b[0m\u001b[38;5;34m957,422\u001b[0m (3.65 MB)\n"
            ],
            "text/html": [
              "<pre style=\"white-space:pre;overflow-x:auto;line-height:normal;font-family:Menlo,'DejaVu Sans Mono',consolas,'Courier New',monospace\"><span style=\"font-weight: bold\"> Total params: </span><span style=\"color: #00af00; text-decoration-color: #00af00\">957,422</span> (3.65 MB)\n",
              "</pre>\n"
            ]
          },
          "metadata": {}
        },
        {
          "output_type": "display_data",
          "data": {
            "text/plain": [
              "\u001b[1m Trainable params: \u001b[0m\u001b[38;5;34m319,140\u001b[0m (1.22 MB)\n"
            ],
            "text/html": [
              "<pre style=\"white-space:pre;overflow-x:auto;line-height:normal;font-family:Menlo,'DejaVu Sans Mono',consolas,'Courier New',monospace\"><span style=\"font-weight: bold\"> Trainable params: </span><span style=\"color: #00af00; text-decoration-color: #00af00\">319,140</span> (1.22 MB)\n",
              "</pre>\n"
            ]
          },
          "metadata": {}
        },
        {
          "output_type": "display_data",
          "data": {
            "text/plain": [
              "\u001b[1m Non-trainable params: \u001b[0m\u001b[38;5;34m0\u001b[0m (0.00 B)\n"
            ],
            "text/html": [
              "<pre style=\"white-space:pre;overflow-x:auto;line-height:normal;font-family:Menlo,'DejaVu Sans Mono',consolas,'Courier New',monospace\"><span style=\"font-weight: bold\"> Non-trainable params: </span><span style=\"color: #00af00; text-decoration-color: #00af00\">0</span> (0.00 B)\n",
              "</pre>\n"
            ]
          },
          "metadata": {}
        },
        {
          "output_type": "display_data",
          "data": {
            "text/plain": [
              "\u001b[1m Optimizer params: \u001b[0m\u001b[38;5;34m638,282\u001b[0m (2.43 MB)\n"
            ],
            "text/html": [
              "<pre style=\"white-space:pre;overflow-x:auto;line-height:normal;font-family:Menlo,'DejaVu Sans Mono',consolas,'Courier New',monospace\"><span style=\"font-weight: bold\"> Optimizer params: </span><span style=\"color: #00af00; text-decoration-color: #00af00\">638,282</span> (2.43 MB)\n",
              "</pre>\n"
            ]
          },
          "metadata": {}
        }
      ]
    }
  ]
}